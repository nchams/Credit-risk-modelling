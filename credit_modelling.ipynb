{
 "cells": [
  {
   "cell_type": "markdown",
   "metadata": {},
   "source": [
    "# Modelling Credit Worthiness with Deep Learning."
   ]
  },
  {
   "cell_type": "code",
   "execution_count": 1,
   "metadata": {},
   "outputs": [],
   "source": [
    "from fastai.tabular import *"
   ]
  },
  {
   "cell_type": "code",
   "execution_count": 2,
   "metadata": {},
   "outputs": [
    {
     "data": {
      "text/plain": [
       "'/home/ubuntu/course-v3/nbs/dl1'"
      ]
     },
     "execution_count": 2,
     "metadata": {},
     "output_type": "execute_result"
    }
   ],
   "source": [
    "pwd"
   ]
  },
  {
   "cell_type": "markdown",
   "metadata": {},
   "source": [
    "Tabular data should be in a Pandas `DataFrame`."
   ]
  },
  {
   "cell_type": "code",
   "execution_count": 2,
   "metadata": {},
   "outputs": [],
   "source": [
    "\n",
    "df = pd.read_csv('AER_credit_card_data.csv')"
   ]
  },
  {
   "cell_type": "code",
   "execution_count": 3,
   "metadata": {},
   "outputs": [],
   "source": [
    "dep_var = 'card'\n",
    "\n",
    "cat_names = ['owner','selfemp']\n",
    "cont_names = ['reports','age','income','share','expenditure','dependents','months','majorcards','active']\n",
    "\n",
    "procs = [FillMissing, Categorify, Normalize]"
   ]
  },
  {
   "cell_type": "code",
   "execution_count": 4,
   "metadata": {},
   "outputs": [],
   "source": [
    "test = TabularList.from_df(df.iloc[1000:1300].copy(), path='/home/ubuntu/course-v3/nbs/dl1', cat_names=cat_names, cont_names=cont_names)"
   ]
  },
  {
   "cell_type": "code",
   "execution_count": 5,
   "metadata": {},
   "outputs": [],
   "source": [
    "data = (TabularList.from_df(df, path='/home/ubuntu/course-v3/nbs/dl1', cat_names=cat_names, cont_names=cont_names, procs=procs)\n",
    "                           .split_by_idx(list(range(1000,1300)))\n",
    "                           .label_from_df(cols=dep_var)\n",
    "                           .add_test(test)\n",
    "                           .databunch())"
   ]
  },
  {
   "cell_type": "code",
   "execution_count": 6,
   "metadata": {},
   "outputs": [
    {
     "data": {
      "text/html": [
       "<table border=\"1\" class=\"dataframe\">\n",
       "  <thead>\n",
       "    <tr style=\"text-align: right;\">\n",
       "      <th>owner</th>\n",
       "      <th>selfemp</th>\n",
       "      <th>reports</th>\n",
       "      <th>age</th>\n",
       "      <th>income</th>\n",
       "      <th>share</th>\n",
       "      <th>expenditure</th>\n",
       "      <th>dependents</th>\n",
       "      <th>months</th>\n",
       "      <th>majorcards</th>\n",
       "      <th>active</th>\n",
       "      <th>target</th>\n",
       "    </tr>\n",
       "  </thead>\n",
       "  <tbody>\n",
       "    <tr>\n",
       "      <td>no</td>\n",
       "      <td>no</td>\n",
       "      <td>-0.3394</td>\n",
       "      <td>-1.2592</td>\n",
       "      <td>-1.0918</td>\n",
       "      <td>0.5911</td>\n",
       "      <td>-0.1185</td>\n",
       "      <td>-0.7721</td>\n",
       "      <td>-0.7990</td>\n",
       "      <td>0.4630</td>\n",
       "      <td>-0.6010</td>\n",
       "      <td>yes</td>\n",
       "    </tr>\n",
       "    <tr>\n",
       "      <td>no</td>\n",
       "      <td>no</td>\n",
       "      <td>-0.3394</td>\n",
       "      <td>-0.3483</td>\n",
       "      <td>0.0649</td>\n",
       "      <td>0.6589</td>\n",
       "      <td>0.6937</td>\n",
       "      <td>-0.7721</td>\n",
       "      <td>-0.5540</td>\n",
       "      <td>0.4630</td>\n",
       "      <td>-1.0957</td>\n",
       "      <td>yes</td>\n",
       "    </tr>\n",
       "    <tr>\n",
       "      <td>yes</td>\n",
       "      <td>no</td>\n",
       "      <td>-0.3394</td>\n",
       "      <td>-0.7540</td>\n",
       "      <td>-0.9183</td>\n",
       "      <td>4.3300</td>\n",
       "      <td>1.8800</td>\n",
       "      <td>-0.7721</td>\n",
       "      <td>0.6557</td>\n",
       "      <td>0.4630</td>\n",
       "      <td>-0.7659</td>\n",
       "      <td>yes</td>\n",
       "    </tr>\n",
       "    <tr>\n",
       "      <td>yes</td>\n",
       "      <td>no</td>\n",
       "      <td>-0.3394</td>\n",
       "      <td>0.5544</td>\n",
       "      <td>0.2384</td>\n",
       "      <td>-0.0733</td>\n",
       "      <td>0.0297</td>\n",
       "      <td>-0.7721</td>\n",
       "      <td>-0.4927</td>\n",
       "      <td>0.4630</td>\n",
       "      <td>-0.1062</td>\n",
       "      <td>yes</td>\n",
       "    </tr>\n",
       "    <tr>\n",
       "      <td>yes</td>\n",
       "      <td>no</td>\n",
       "      <td>-0.3394</td>\n",
       "      <td>1.8876</td>\n",
       "      <td>0.1228</td>\n",
       "      <td>0.0500</td>\n",
       "      <td>0.1168</td>\n",
       "      <td>0.0526</td>\n",
       "      <td>1.0692</td>\n",
       "      <td>0.4630</td>\n",
       "      <td>1.0483</td>\n",
       "      <td>yes</td>\n",
       "    </tr>\n",
       "    <tr>\n",
       "      <td>yes</td>\n",
       "      <td>no</td>\n",
       "      <td>-0.3394</td>\n",
       "      <td>-0.4145</td>\n",
       "      <td>0.4814</td>\n",
       "      <td>0.2126</td>\n",
       "      <td>0.4478</td>\n",
       "      <td>0.0526</td>\n",
       "      <td>-0.5080</td>\n",
       "      <td>0.4630</td>\n",
       "      <td>-0.6010</td>\n",
       "      <td>yes</td>\n",
       "    </tr>\n",
       "    <tr>\n",
       "      <td>no</td>\n",
       "      <td>no</td>\n",
       "      <td>-0.3394</td>\n",
       "      <td>0.1734</td>\n",
       "      <td>-0.0736</td>\n",
       "      <td>-0.4153</td>\n",
       "      <td>-0.3832</td>\n",
       "      <td>0.0526</td>\n",
       "      <td>-0.3702</td>\n",
       "      <td>0.4630</td>\n",
       "      <td>-0.1062</td>\n",
       "      <td>yes</td>\n",
       "    </tr>\n",
       "    <tr>\n",
       "      <td>no</td>\n",
       "      <td>no</td>\n",
       "      <td>-0.3394</td>\n",
       "      <td>-0.5719</td>\n",
       "      <td>-0.8663</td>\n",
       "      <td>-0.2475</td>\n",
       "      <td>-0.4196</td>\n",
       "      <td>-0.7721</td>\n",
       "      <td>-0.0640</td>\n",
       "      <td>0.4630</td>\n",
       "      <td>0.8834</td>\n",
       "      <td>yes</td>\n",
       "    </tr>\n",
       "    <tr>\n",
       "      <td>no</td>\n",
       "      <td>no</td>\n",
       "      <td>-0.3394</td>\n",
       "      <td>-0.0833</td>\n",
       "      <td>-0.5135</td>\n",
       "      <td>-0.1336</td>\n",
       "      <td>-0.2545</td>\n",
       "      <td>-0.7721</td>\n",
       "      <td>-0.7224</td>\n",
       "      <td>0.4630</td>\n",
       "      <td>-0.2711</td>\n",
       "      <td>yes</td>\n",
       "    </tr>\n",
       "    <tr>\n",
       "      <td>yes</td>\n",
       "      <td>no</td>\n",
       "      <td>-0.3394</td>\n",
       "      <td>1.7054</td>\n",
       "      <td>0.6433</td>\n",
       "      <td>0.3312</td>\n",
       "      <td>0.6722</td>\n",
       "      <td>0.8773</td>\n",
       "      <td>3.7642</td>\n",
       "      <td>0.4630</td>\n",
       "      <td>0.7185</td>\n",
       "      <td>yes</td>\n",
       "    </tr>\n",
       "  </tbody>\n",
       "</table>"
      ],
      "text/plain": [
       "<IPython.core.display.HTML object>"
      ]
     },
     "metadata": {},
     "output_type": "display_data"
    }
   ],
   "source": [
    "data.show_batch(rows=10)"
   ]
  },
  {
   "cell_type": "code",
   "execution_count": 7,
   "metadata": {},
   "outputs": [],
   "source": [
    "learn = tabular_learner(data, layers=[200,100], metrics=accuracy)"
   ]
  },
  {
   "cell_type": "code",
   "execution_count": 8,
   "metadata": {},
   "outputs": [
    {
     "data": {
      "text/html": [
       "<table border=\"1\" class=\"dataframe\">\n",
       "  <thead>\n",
       "    <tr style=\"text-align: left;\">\n",
       "      <th>epoch</th>\n",
       "      <th>train_loss</th>\n",
       "      <th>valid_loss</th>\n",
       "      <th>accuracy</th>\n",
       "      <th>time</th>\n",
       "    </tr>\n",
       "  </thead>\n",
       "  <tbody>\n",
       "    <tr>\n",
       "      <td>0</td>\n",
       "      <td>0.485462</td>\n",
       "      <td>0.500166</td>\n",
       "      <td>0.863333</td>\n",
       "      <td>00:15</td>\n",
       "    </tr>\n",
       "    <tr>\n",
       "      <td>1</td>\n",
       "      <td>0.389470</td>\n",
       "      <td>0.278566</td>\n",
       "      <td>0.913333</td>\n",
       "      <td>00:00</td>\n",
       "    </tr>\n",
       "    <tr>\n",
       "      <td>2</td>\n",
       "      <td>0.330521</td>\n",
       "      <td>0.208622</td>\n",
       "      <td>0.936667</td>\n",
       "      <td>00:00</td>\n",
       "    </tr>\n",
       "    <tr>\n",
       "      <td>3</td>\n",
       "      <td>0.283580</td>\n",
       "      <td>0.184276</td>\n",
       "      <td>0.936667</td>\n",
       "      <td>00:00</td>\n",
       "    </tr>\n",
       "    <tr>\n",
       "      <td>4</td>\n",
       "      <td>0.254492</td>\n",
       "      <td>0.153042</td>\n",
       "      <td>0.953333</td>\n",
       "      <td>00:00</td>\n",
       "    </tr>\n",
       "  </tbody>\n",
       "</table>"
      ],
      "text/plain": [
       "<IPython.core.display.HTML object>"
      ]
     },
     "metadata": {},
     "output_type": "display_data"
    }
   ],
   "source": [
    "learn.fit(5, 1e-3)"
   ]
  },
  {
   "cell_type": "markdown",
   "metadata": {},
   "source": [
    "## Inference"
   ]
  },
  {
   "cell_type": "code",
   "execution_count": null,
   "metadata": {},
   "outputs": [],
   "source": [
    "row = df.iloc[0]"
   ]
  },
  {
   "cell_type": "code",
   "execution_count": null,
   "metadata": {},
   "outputs": [
    {
     "data": {
      "text/plain": [
       "(Category >=50k, tensor(1), tensor([0.4402, 0.5598]))"
      ]
     },
     "execution_count": null,
     "metadata": {},
     "output_type": "execute_result"
    }
   ],
   "source": [
    "learn.predict(row)"
   ]
  },
  {
   "cell_type": "code",
   "execution_count": null,
   "metadata": {},
   "outputs": [],
   "source": []
  }
 ],
 "metadata": {
  "kernelspec": {
   "display_name": "Python 3",
   "language": "python",
   "name": "python3"
  },
  "language_info": {
   "codemirror_mode": {
    "name": "ipython",
    "version": 3
   },
   "file_extension": ".py",
   "mimetype": "text/x-python",
   "name": "python",
   "nbconvert_exporter": "python",
   "pygments_lexer": "ipython3",
   "version": "3.7.3"
  }
 },
 "nbformat": 4,
 "nbformat_minor": 2
}
